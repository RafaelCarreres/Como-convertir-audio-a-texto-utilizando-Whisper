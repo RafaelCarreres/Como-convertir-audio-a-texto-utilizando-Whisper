{
  "nbformat": 4,
  "nbformat_minor": 0,
  "metadata": {
    "colab": {
      "provenance": [],
      "gpuType": "T4"
    },
    "kernelspec": {
      "name": "python3",
      "display_name": "Python 3"
    },
    "language_info": {
      "name": "python"
    },
    "accelerator": "GPU"
  },
  "cells": [
    {
      "cell_type": "code",
      "execution_count": null,
      "metadata": {
        "id": "s_TYM7INmjHM"
      },
      "outputs": [],
      "source": [
        "!pip install git+https://github.com/openai/whisper.git\n",
        "!pip install pytube\n",
        "!pip install setuptools-rust"
      ]
    },
    {
      "cell_type": "code",
      "source": [
        "import whisper\n",
        "import pytube"
      ],
      "metadata": {
        "id": "Uby6wKh1nbR2"
      },
      "execution_count": null,
      "outputs": []
    },
    {
      "cell_type": "code",
      "source": [
        "# Leer el enlace de Youtube\n",
        "video = input(\"URL del video de YouTube: \")\n",
        "data = pytube.YouTube(video)\n",
        "# Convertirlo en un archivo 'MP4' de audio\n",
        "audio = data.streams.get_audio_only()\n",
        "filename = audio.download()"
      ],
      "metadata": {
        "id": "7iUDze0kncrd"
      },
      "execution_count": null,
      "outputs": []
    },
    {
      "cell_type": "code",
      "source": [
        "model = whisper.load_model(\"base\")\n",
        "result = model.transcribe(filename)\n",
        "print(result[\"text\"])"
      ],
      "metadata": {
        "id": "7-CddmdDnd-N"
      },
      "execution_count": null,
      "outputs": []
    },
    {
      "cell_type": "code",
      "source": [
        "with open('textfile.txt', 'w') as f:\n",
        "    f.write(result[\"text\"])"
      ],
      "metadata": {
        "id": "21UdN4C3nf_z"
      },
      "execution_count": null,
      "outputs": []
    }
  ]
}

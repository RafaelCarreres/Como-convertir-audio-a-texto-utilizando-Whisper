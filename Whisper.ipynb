{
  "nbformat": 4,
  "nbformat_minor": 0,
  "metadata": {
    "colab": {
      "provenance": []
    },
    "kernelspec": {
      "name": "python3",
      "display_name": "Python 3"
    },
    "language_info": {
      "name": "python"
    }
  },
  "cells": [
    {
      "cell_type": "markdown",
      "source": [
        "#Cómo convertir audio a texto utilizando Whisper (OpenAI)"
      ],
      "metadata": {
        "id": "vHzkX5aD75Oh"
      }
    },
    {
      "cell_type": "markdown",
      "source": [
        "###Funciona muy bien en podcast, conferencias. Y, una aplicación bastante útil que le he encontrado es poder encontrar información de un video (o un archivo de audio) de una forma más rapida, hacer anotaciones, resaltar texto, etc."
      ],
      "metadata": {
        "id": "JNJdD9Uq8gJU"
      }
    },
    {
      "cell_type": "markdown",
      "source": [
        "###Las instrucciones para instalar este modelo viene en esta pagina https://github.com/openai/whisper/blob/main/README.md"
      ],
      "metadata": {
        "id": "N6NfCXTX-U7j"
      }
    },
    {
      "cell_type": "markdown",
      "source": [
        "#### Para instalar el modelo Whisper"
      ],
      "metadata": {
        "id": "636dpfjCB5Lu"
      }
    },
    {
      "cell_type": "code",
      "source": [
        "pip install git+https://github.com/openai/whisper.git"
      ],
      "metadata": {
        "id": "437z9VgK-wCn"
      },
      "execution_count": null,
      "outputs": []
    },
    {
      "cell_type": "markdown",
      "source": [
        "###Para actualizarlo"
      ],
      "metadata": {
        "id": "9YYW5ojkB78W"
      }
    },
    {
      "cell_type": "code",
      "execution_count": null,
      "metadata": {
        "id": "QvstlFjN7ivy"
      },
      "outputs": [],
      "source": [
        "pip install --upgrade --no-deps --force-reinstall git+https://github.com/openai/whisper.git"
      ]
    },
    {
      "cell_type": "markdown",
      "source": [
        "### Para poder extraer el audio de un video de YouTube"
      ],
      "metadata": {
        "id": "U7vUsvHdCBUV"
      }
    },
    {
      "cell_type": "code",
      "source": [
        "pip install pytube"
      ],
      "metadata": {
        "id": "Pnj5NBfc8fae"
      },
      "execution_count": null,
      "outputs": []
    },
    {
      "cell_type": "markdown",
      "source": [
        "###Hay que instalar FFmpeg para procresar el audio. Usar el terminal.\n",
        "\n",
        "###En Ubuntu o Debian\n",
        "sudo apt update && sudo apt install ffmpeg\n",
        "\n",
        "###En Arch Linux\n",
        "sudo pacman -S ffmpeg\n",
        "\n",
        "###En MacOS usando Homebrew (https://brew.sh/)\n",
        "brew install ffmpeg\n",
        "\n",
        "###En Windows usando Chocolatey (https://chocolatey.org/)\n",
        "choco install ffmpeg\n",
        "\n",
        "###En Windows usando Scoop (https://scoop.sh/)\n",
        "scoop install ffmpeg"
      ],
      "metadata": {
        "id": "humHSFPh_rqM"
      }
    },
    {
      "cell_type": "markdown",
      "source": [
        "###Para instalar Rust"
      ],
      "metadata": {
        "id": "JT7gQlLpCJEu"
      }
    },
    {
      "cell_type": "code",
      "source": [
        "pip install setuptools-rust"
      ],
      "metadata": {
        "id": "FwZpHAEC_XRS"
      },
      "execution_count": null,
      "outputs": []
    },
    {
      "cell_type": "code",
      "source": [
        "import whisper\n",
        "import pytube"
      ],
      "metadata": {
        "id": "pDU1F0oeBAC4"
      },
      "execution_count": 1,
      "outputs": []
    },
    {
      "cell_type": "code",
      "source": [
        "# Leer el enlace de YouTube\n",
        "video = 'https://www.youtube.com/watch?v=xLi83prR5fg'\n",
        "\n",
        "data = pytube.YouTube(video)\n",
        "# Convertirlo en un archivo 'MP4' de audio\n",
        "audio = data.streams.get_audio_only()\n",
        "audio.download()"
      ],
      "metadata": {
        "id": "MNWITPqRBB2p"
      },
      "execution_count": null,
      "outputs": []
    },
    {
      "cell_type": "code",
      "source": [
        "model = whisper.load_model(\"base\")\n",
        "result = model.transcribe(\"The code for AGI will be simple.mp4\")\n",
        "print(result[\"text\"])"
      ],
      "metadata": {
        "id": "xA7VtmyIBDjp"
      },
      "execution_count": null,
      "outputs": []
    },
    {
      "cell_type": "code",
      "source": [
        "# Para crear un archivo de texto\n",
        "with open('/content/textfile.txt', 'w') as f:\n",
        "    f.write(result[\"text\"])"
      ],
      "metadata": {
        "id": "s5C86IAUGSkQ"
      },
      "execution_count": 7,
      "outputs": []
    }
  ]
}